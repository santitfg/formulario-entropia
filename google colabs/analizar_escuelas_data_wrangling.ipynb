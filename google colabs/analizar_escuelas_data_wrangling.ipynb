{
  "cells": [
    {
      "cell_type": "markdown",
      "metadata": {},
      "source": [
        "# Colab con diversos scripts que utilice para analizar y practicar la limpieza de datos"
      ]
    },
    {
      "cell_type": "markdown",
      "metadata": {},
      "source": [
        "# librerias y carga del data set"
      ]
    },
    {
      "cell_type": "code",
      "execution_count": null,
      "metadata": {
        "id": "eSzc_EIU9nvZ"
      },
      "outputs": [],
      "source": [
        "# import numpy as np\n",
        "# import matplotlib.pyplot as plt\n",
        "import pandas as pd\n",
        "import io\n",
        "\n"
      ]
    },
    {
      "cell_type": "code",
      "execution_count": null,
      "metadata": {
        "id": "pwD8L3dFIwcO"
      },
      "outputs": [],
      "source": [
        "from google.colab import drive\n",
        "drive.mount('/content/drive')"
      ]
    },
    {
      "cell_type": "code",
      "execution_count": null,
      "metadata": {
        "colab": {
          "base_uri": "https://localhost:8080/",
          "height": 73,
          "resources": {
            "http://localhost:8080/nbextensions/google.colab/files.js": {
              "data": "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",
              "headers": [
                [
                  "content-type",
                  "application/javascript"
                ]
              ],
              "ok": true,
              "status": 200,
              "status_text": ""
            }
          }
        },
        "id": "P98ncoa2eHZM",
        "outputId": "e4f55cd1-ac5c-4856-c7a3-27ef02abe4a0"
      },
      "outputs": [
        {
          "data": {
            "text/html": [
              "\n",
              "     <input type=\"file\" id=\"files-3dec539d-dd65-4a18-870e-84b157e514ad\" name=\"files[]\" multiple disabled\n",
              "        style=\"border:none\" />\n",
              "     <output id=\"result-3dec539d-dd65-4a18-870e-84b157e514ad\">\n",
              "      Upload widget is only available when the cell has been executed in the\n",
              "      current browser session. Please rerun this cell to enable.\n",
              "      </output>\n",
              "      <script src=\"/nbextensions/google.colab/files.js\"></script> "
            ],
            "text/plain": [
              "<IPython.core.display.HTML object>"
            ]
          },
          "metadata": {},
          "output_type": "display_data"
        },
        {
          "name": "stdout",
          "output_type": "stream",
          "text": [
            "Saving escuelas.csv to escuelas.csv\n"
          ]
        }
      ],
      "source": [
        "from google.colab import files\n",
        "uploaded = files.upload()"
      ]
    },
    {
      "cell_type": "code",
      "execution_count": null,
      "metadata": {
        "id": "_YHJATdmfhuU"
      },
      "outputs": [],
      "source": [
        "\n",
        "df = pd.read_csv(io.BytesIO(uploaded['escuelas.csv']), header=5)"
      ]
    },
    {
      "cell_type": "markdown",
      "metadata": {
        "id": "dX1DJH4ujKcI"
      },
      "source": [
        "\n",
        "\n",
        "\n",
        "- - - \n",
        "# CONTROLES Y ANALISIS DE LA DB\n",
        "\n",
        "* * * "
      ]
    },
    {
      "cell_type": "code",
      "execution_count": null,
      "metadata": {
        "colab": {
          "base_uri": "https://localhost:8080/"
        },
        "id": "m-DpCHllDn-B",
        "outputId": "7022c5c9-83d4-47f1-b621-2e34d07ac11f"
      },
      "outputs": [
        {
          "name": "stdout",
          "output_type": "stream",
          "text": [
            "cantidad codigosDeparamentos: 3\n",
            "Privado 11993\n",
            "Estatal 51026\n",
            "Social/cooperativa 631\n",
            "Privado 951\n",
            "Estatal 1853\n",
            "Social/cooperativa 0\n"
          ]
        }
      ],
      "source": [
        "sectores =list(dict.fromkeys(df['Sector'].values.tolist()))\n",
        "print(\"cantidad codigosDeparamentos:\", len(sectores))\n",
        "for sector in sectores:\n",
        "  print(sector, len(df[df['Sector']==sector]))\n"
      ]
    },
    {
      "cell_type": "code",
      "execution_count": null,
      "metadata": {
        "colab": {
          "base_uri": "https://localhost:8080/"
        },
        "id": "w8EDkU7v-B5h",
        "outputId": "52048647-8667-4b43-dbe6-b8852e84de52"
      },
      "outputs": [
        {
          "name": "stdout",
          "output_type": "stream",
          "text": [
            "cantidad departamentos: 446\n",
            "cantidad de localidades 6964\n",
            "cantidad codigosDeparamentos: 527\n",
            "cantidad codigoLocalidad: 8809\n",
            "cantidad cues: 53267\n",
            "cantidad cues: 63650\n"
          ]
        }
      ],
      "source": [
        "#!!!CUE NO ES UNA CLAVE UNICA EN CAMBIO EL ANEXO DE CUE SI!!!\n",
        "#'Departamento','Código de departamento' aunque realmente las claves  unicas son los codigos? los de localidad o los de depa ?\n",
        "\n",
        "departamentos =list(dict.fromkeys(df['Departamento'].values.tolist()))\n",
        "print(\"cantidad departamentos:\", len(departamentos))\n",
        "#print( departamentos)\n",
        "\n",
        "\n",
        "localidades =list(dict.fromkeys(df_short['Localidad'].values.tolist()))\n",
        "print(\"cantidad de localidades\", len(localidades))\n",
        "# print( localidades)\n",
        "\n",
        "codigosDeparamentos =list(dict.fromkeys(df['Código de departamento'].values.tolist()))\n",
        "print(\"cantidad codigosDeparamentos:\", len(codigosDeparamentos))\n",
        "#print( codigosDeparamentos)\n",
        "\n",
        "codigoLocalidad=list(dict.fromkeys(df['Código localidad'].values.tolist()))\n",
        "print(\"cantidad codigoLocalidad:\",  len(codigoLocalidad))\n",
        "#print(codigoLocalidad)\n",
        "\n",
        "cue =list(dict.fromkeys(df['Clave única de establecimiento (cue)'].values.tolist()))\n",
        "print(\"cantidad cues:\", len(cue))\n",
        "#print(cue)\n",
        "cueAnexo =list(dict.fromkeys(df['Clave única de establecimiento - anexo (cueanexo)'].values.tolist()))\n",
        "print(\"cantidad cues:\", len(cueAnexo))\n",
        "#print(cueAnexo)"
      ]
    },
    {
      "cell_type": "code",
      "execution_count": null,
      "metadata": {
        "id": "8dEFdGv3_4Tm"
      },
      "outputs": [],
      "source": [
        "df[df['Clave única de establecimiento (cue)'].duplicated()]\n",
        "df[df['Clave única de establecimiento - anexo (cueanexo)'].duplicated()]\n",
        "#df[df['Clave única de establecimiento - anexo (cueanexo)'].duplicated()]\n"
      ]
    },
    {
      "cell_type": "code",
      "execution_count": null,
      "metadata": {
        "colab": {
          "base_uri": "https://localhost:8080/"
        },
        "id": "NsDnLTxrsM7o",
        "outputId": "d2579f63-f50c-4f52-86ad-65f346ff120b"
      },
      "outputs": [
        {
          "name": "stdout",
          "output_type": "stream",
          "text": [
            "Ciudad de Buenos Aires 15\n",
            "Buenos Aires 135\n",
            "Catamarca 16\n",
            "Córdoba 26\n",
            "Corrientes 25\n",
            "Chaco 25\n",
            "Chubut 15\n",
            "Entre Ríos 17\n",
            "Formosa 9\n",
            "Jujuy 16\n",
            "La Pampa 22\n",
            "La Rioja 18\n",
            "Mendoza 18\n",
            "Misiones 17\n",
            "Neuquén 16\n",
            "Río Negro 13\n",
            "Salta 23\n",
            "San Juan 19\n",
            "San Luis 9\n",
            "Santa Cruz 7\n",
            "Santa Fe 19\n",
            "Santiago del Estero 27\n",
            "Tucumán 17\n",
            "Tierra del Fuego 3\n"
          ]
        }
      ],
      "source": [
        "\n",
        "# suma=0\n",
        "for jurisdiccion in jurisdicciones:\n",
        "    print(jurisdiccion, len(dbs[jurisdiccion].index))\n",
        "    # suma+=len(dbs[jurisdiccion].index)\n",
        "\n",
        "# print(suma)\n",
        "# print(len(df.index))\n",
        "# suma=0\n",
        "for jurisdiccion in jurisdicciones:\n",
        "    print(jurisdiccion, len(list(dict.fromkeys(dbs[jurisdiccion]['Departamento'].values.tolist()))))\n",
        "    # suma+=len(dbs[jurisdiccion].index)\n",
        "\n"
      ]
    },
    {
      "cell_type": "code",
      "execution_count": null,
      "metadata": {
        "id": "1tsqtNYxxFs4"
      },
      "outputs": [],
      "source": [
        "contar= 0\n",
        "for departamento in departamentos:\n",
        "    print(departamento, len(dbs_departamentos[departamento].index))\n",
        "    contar += len(dbs_departamentos[departamento].index)\n",
        "\n",
        "print(\"\\nTotal: \",contar)"
      ]
    },
    {
      "cell_type": "code",
      "execution_count": null,
      "metadata": {
        "id": "hHAOW-_Rq6vC"
      },
      "outputs": [],
      "source": [
        "secundarias=df[ (df['Secundaria']==1) |(df['Secundaria.1']==1) | (df['Secundaria.2']==1)| (df['Secundaria.3']==1)| (df['Secundaria.4']==1)|(df[\"Secundaria Técnica (INET)\"]==1)]\n",
        "#tranquilamente podria unir todas estas catgorias pero desconozco el motivo de su division asi que solamente tomo "
      ]
    },
    {
      "cell_type": "code",
      "execution_count": null,
      "metadata": {
        "colab": {
          "base_uri": "https://localhost:8080/"
        },
        "id": "-IgeXAp93nmy",
        "outputId": "df73c298-4e63-4a63-f2e0-1447263a5a48"
      },
      "outputs": [
        {
          "name": "stdout",
          "output_type": "stream",
          "text": [
            "cantidad departamentos: 446\n",
            "dict_keys(['cantidad', 'departamentos', 'inicio', 'parametros', 'total'])\n",
            "529\n"
          ]
        }
      ],
      "source": [
        "#HOMOLOGAR DATA\n",
        "\n",
        "departamentos =list(dict.fromkeys(df['Departamento'].values.tolist()))\n",
        "\n",
        "print(\"cantidad departamentos:\", len(departamentos))\n",
        "\n",
        "print(data.keys())\n",
        "print(len(data['departamentos']))\n",
        "# https://note-code.blogspot.com/2019/01/como-eliminar-tildes-de-string-en-python.html\n",
        "a,b = 'áéíóúüÁÉÍÓÚÜ','aeiouuAEIOUU'\n",
        "trans = str.maketrans(a,b)\n",
        "departamentosGeoRef= []\n",
        "for depa in data['departamentos']:\n",
        "  departamentosGeoRef.append(depa[\"nombre\"].upper().translate(trans)) #normalizandolo\n",
        "  # print(depa[\"nombre\"])\n",
        "\n",
        "for i in range(len(departamentos)):\n",
        "  departamentos[i]=departamentos[i].upper().translate(trans)\n"
      ]
    },
    {
      "cell_type": "code",
      "execution_count": null,
      "metadata": {
        "colab": {
          "base_uri": "https://localhost:8080/"
        },
        "id": "sloRCGpiq65F",
        "outputId": "fe2698cd-a267-4eb7-adcf-42de170700c6"
      },
      "outputs": [],
      "source": [
        "comparacion = [item for item in departamentosGeoRef if item in departamentos]\n",
        "diferencias = [item for item in  departamentosGeoRef if item not in departamentos]\n",
        "print(\"departamentosGeoRef:  \",len(departamentosGeoRef))\n",
        "print(\"departamentos:  \",len(departamentos))\n",
        "print(\"comparacion:  \",len(comparacion))\n",
        "print(\"diferencias:  \",len(diferencias))\n",
        "print(comparacion)\n",
        "print(diferencias) # agregar manualmente estos departamentos (13 + 15 comunas) (y contemplar el caso de caba ) opte por contemplar un parche dentro de la app por cada caso"
      ]
    },
    {
      "cell_type": "code",
      "execution_count": null,
      "metadata": {
        "id": "nCpXRDWltNBn"
      },
      "outputs": [],
      "source": [
        "# ATAJAR INCONGRUENCIAS!!!!\n",
        "\"\"\"\n",
        "tengo que buscar estos 13  departamentos en la base de datos y buscar las escualas e ir revisando cada jurisdiccion.\n",
        "\"\"\""
      ]
    },
    {
      "cell_type": "code",
      "execution_count": null,
      "metadata": {
        "colab": {
          "base_uri": "https://localhost:8080/"
        },
        "id": "Aj4D1f4LtwdT",
        "outputId": "ec2c4650-d726-447c-dd44-73777ba102c1"
      },
      "outputs": [
        {
          "name": "stdout",
          "output_type": "stream",
          "text": [
            "Buenos Aires ['EZEIZA'] (167, 15)\n",
            "Buenos Aires ['CORONEL DE MARINA L ROSALES'] (93, 15)\n",
            "Chaco ['1§ DE MAYO'] (45, 15)\n",
            "Chaco ['O HIGGINS'] (83, 15)\n",
            "Chaco ['MAYOR LUIS J FONTANA'] (140, 15)\n",
            "Jujuy ['DOCTOR MANUEL BELGRANO'] (308, 15)\n",
            "La Rioja ['GENERAL ANGEL V PEÑALOZA'] (28, 15)\n",
            "La Rioja ['GENERAL JUAN F QUIROGA'] (45, 15)\n",
            "Misiones San Luis ['LIBERTADOR GRL SAN MARTIN'] (190, 15)\n",
            "San Luis ['GENERAL JUAN MARTIN DE PUEYRREDON'] (198, 15)\n",
            "Santa Fe ['CONSTITUCION'] (142, 15)\n",
            "Santiago del Estero ['JUAN F IBARRA'] (73, 15)\n",
            "Tucumán ['JUAN B ALBERDI'] (46, 15)\n",
            "1558\n"
          ]
        }
      ],
      "source": [
        "cuenta=0\n",
        "listjurisdicciones=[]\n",
        "#departamentos =list(dict.fromkeys(df['Departamento'].values.tolist()))\n",
        "\n",
        "for diff in diferencias:\n",
        "  cuenta += len(df_diff[diff].index)\n",
        "  # listjurisdicciones.append(list(dict.fromkeys(df_diff[diff][\"Jurisdicción\"].values.tolist())))#*list(dict.fromkeys(df_diff[diff][\"Localidad\"].values.tolist()))\n",
        "  print(*list(dict.fromkeys(df_diff[diff][\"Jurisdicción\"].values.tolist())),list(dict.fromkeys(df_diff[diff][\"Departamento\"].values.tolist())),df_diff[diff].shape)\n",
        "\n",
        "print(cuenta)"
      ]
    },
    {
      "cell_type": "markdown",
      "metadata": {
        "id": "4NvkOTIPkrgB"
      },
      "source": [
        "- - - \n",
        "# generar sub set del df con los campos mas importantes"
      ]
    },
    {
      "cell_type": "code",
      "execution_count": null,
      "metadata": {
        "id": "Mr7OIp3FhcWp"
      },
      "outputs": [],
      "source": [
        "df_short=df.drop(df.columns[15:], axis=1, inplace=False)"
      ]
    },
    {
      "cell_type": "code",
      "execution_count": null,
      "metadata": {
        "colab": {
          "base_uri": "https://localhost:8080/"
        },
        "id": "S5z55xrOnPp9",
        "outputId": "f70e084b-8dcb-4a8e-d3a7-1940a7e3061c"
      },
      "outputs": [],
      "source": [
        "df_short.info()"
      ]
    },
    {
      "cell_type": "code",
      "execution_count": null,
      "metadata": {
        "id": "c7GpEPPPEX_H"
      },
      "outputs": [],
      "source": [
        "listaRenombrar =['jurisdiccion', 'sector', 'ambito','departamento','codigo de departamento','localidad','codigo localidad','cue','anexo cue','nombre','domicilio','codigo postal','codigo de area telefonico','telefono','email' ]\n",
        "df_short = df_short.set_axis(listaRenombrar, axis='columns')"
      ]
    },
    {
      "cell_type": "markdown",
      "metadata": {
        "id": "lvq-vlTEk86k"
      },
      "source": [
        "---\n",
        " ## generacion de un diccionario con sub DataFrames divididos por jurisdicciones"
      ]
    },
    {
      "cell_type": "code",
      "execution_count": null,
      "metadata": {
        "colab": {
          "base_uri": "https://localhost:8080/"
        },
        "id": "GIYflZxSnOKX",
        "outputId": "d860cef9-6394-4d6b-9489-d542004c0db8"
      },
      "outputs": [
        {
          "name": "stdout",
          "output_type": "stream",
          "text": [
            "24\n",
            "['Ciudad de Buenos Aires', 'Buenos Aires', 'Catamarca', 'Córdoba', 'Corrientes', 'Chaco', 'Chubut', 'Entre Ríos', 'Formosa', 'Jujuy', 'La Pampa', 'La Rioja', 'Mendoza', 'Misiones', 'Neuquén', 'Río Negro', 'Salta', 'San Juan', 'San Luis', 'Santa Cruz', 'Santa Fe', 'Santiago del Estero', 'Tucumán', 'Tierra del Fuego']\n"
          ]
        }
      ],
      "source": [
        "jurisdicciones =list(dict.fromkeys(df['Jurisdicción'].values.tolist()))\n",
        "print(len(jurisdicciones))\n",
        "print( jurisdicciones)"
      ]
    },
    {
      "cell_type": "code",
      "execution_count": null,
      "metadata": {
        "id": "HNk2xhWlB3xN"
      },
      "outputs": [],
      "source": [
        "dbs={} # buscar un mejor nombre\n",
        "for jurisdiccion in jurisdicciones:\n",
        "    dbs[jurisdiccion]=df[ df['Jurisdicción']==jurisdiccion]\n",
        "\n",
        "#comprobaciones\n",
        "#dbs['Buenos Aires'].info()\n",
        "#df[ df['Jurisdicción']=='Buenos Aires'].info()"
      ]
    },
    {
      "cell_type": "code",
      "execution_count": null,
      "metadata": {
        "colab": {
          "base_uri": "https://localhost:8080/"
        },
        "id": "__fEtsL6xLU_",
        "outputId": "4e3d20b5-d21b-49b1-9ba9-ae6d59198ee7"
      },
      "outputs": [
        {
          "name": "stdout",
          "output_type": "stream",
          "text": [
            "cantidad departamentos: 446\n"
          ]
        }
      ],
      "source": [
        "#evaluacion en caso de realizar colecciones por depatamento \n",
        "# (descartado por la posibilidad de que no fueran claves unicas)\n",
        "\n",
        "departamentos =list(dict.fromkeys(df['Departamento'].values.tolist()))\n",
        "print(\"cantidad departamentos:\", len(departamentos))\n",
        "\n",
        "# dbs_departamentos={}\n",
        "# for departamento in departamentos:\n",
        "#     dbs_departamentos[departamento]=df[ df['Departamento']==departamento]\n"
      ]
    },
    {
      "cell_type": "code",
      "execution_count": null,
      "metadata": {
        "id": "3gYbnrGPnrxz"
      },
      "outputs": [],
      "source": [
        "dbs={} # buscar un mejor nombre\n",
        "for jurisdiccion in jurisdicciones:\n",
        "    dbs[jurisdiccion]=df_short[ df_short['jurisdiccion']==jurisdiccion].to_dict('records') #    dbs[jurisdiccion]=df_short[ df_short['Jurisdicción']==jurisdiccion]\n",
        "    #dbs[jurisdiccion]= dbs[jurisdiccion].drop(df.columns[0], axis=1, inplace=False) #    dbs[jurisdiccion]= dbs[jurisdiccion].drop(df.columns[0], axis=1, inplace=False)\n",
        "    \n",
        "    # renombrar colms y eliminar cue? https://stackoverflow.com/questions/11346283/renaming-column-names-in-pandas\n",
        "    # https://pandas.pydata.org/docs/reference/api/pandas.DataFrame.rename.html"
      ]
    },
    {
      "cell_type": "code",
      "execution_count": null,
      "metadata": {
        "colab": {
          "base_uri": "https://localhost:8080/"
        },
        "id": "8X6pqo8r625s",
        "outputId": "dcd75c3a-1e5a-4764-fa17-832fa0f0f974"
      },
      "outputs": [
        {
          "name": "stdout",
          "output_type": "stream",
          "text": [
            "19579\n"
          ]
        }
      ],
      "source": [
        "print(len(dbs['Buenos Aires']))"
      ]
    },
    {
      "cell_type": "code",
      "execution_count": null,
      "metadata": {
        "id": "GxG1EnmQ-say"
      },
      "outputs": [],
      "source": [
        "#testeo de for para agregar dbs a firebase\n",
        "for jurisdiccion in jurisdicciones:\n",
        "  for escuela in dbs[jurisdiccion]:\n",
        "    print(escuela)"
      ]
    },
    {
      "cell_type": "markdown",
      "metadata": {
        "id": "Ufq5EwIHkRc8"
      },
      "source": [
        "- - - \n",
        "# GUARDA DF EN ARCHIVO"
      ]
    },
    {
      "cell_type": "code",
      "execution_count": null,
      "metadata": {
        "id": "qY8qOQaJJfvu"
      },
      "outputs": [],
      "source": [
        "import os\n",
        "from zipfile import ZipFile\n"
      ]
    },
    {
      "cell_type": "markdown",
      "metadata": {
        "id": "_J34625dJkUH"
      },
      "source": [
        "https://thispointer.com/python-how-to-create-a-zip-archive-from-multiple-files-or-directory/\n",
        "\n",
        "https://pandas.pydata.org/docs/reference/api/pandas.DataFrame.to_json.html"
      ]
    },
    {
      "cell_type": "code",
      "execution_count": null,
      "metadata": {
        "id": "ETTvqbVCDYpV"
      },
      "outputs": [],
      "source": [
        "for jurisdiccion in jurisdicciones:\n",
        "  with open(jurisdiccion+'.json',\"w\") as archivo: #originalmente de csv\n",
        "    archivo.write(dbs[jurisdiccion].to_json(orient=\"table\")) #index=False\n",
        "    #rehacer en un paso anterior y borrar index y datos del schema que se sobren tienden?\n",
        "    #df.to_dict('records')  [{'col1': 1, 'col2': 0.5}, {'col1': 2, 'col2': 0.75}]\n",
        "    # https://pandas.pydata.org/docs/reference/api/pandas.DataFrame.to_dict.html\n",
        "    # archivo.write(dbs[jurisdiccion].to_csv())"
      ]
    },
    {
      "cell_type": "code",
      "execution_count": null,
      "metadata": {
        "id": "744Z5FBcJkm-"
      },
      "outputs": [],
      "source": [
        "zipObj = ZipFile('escuelasXprovincias.zip', 'w') #/content/sample_data\n",
        "# Add multiple files to the zip\n",
        "for jurisdiccion in jurisdicciones:\n",
        "  zipObj.write(jurisdiccion+'.json')\n",
        "zipObj.close()"
      ]
    }
  ],
  "metadata": {
    "colab": {
      "collapsed_sections": [
        "nZ-jBHiselQh"
      ],
      "name": "analizar escuelas",
      "provenance": []
    },
    "kernelspec": {
      "display_name": "Python 3",
      "name": "python3"
    },
    "language_info": {
      "name": "python",
      "version": "3.7.5"
    }
  },
  "nbformat": 4,
  "nbformat_minor": 0
}
