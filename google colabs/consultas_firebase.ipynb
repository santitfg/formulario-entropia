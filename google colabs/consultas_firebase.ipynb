{
  "cells": [
    {
      "cell_type": "markdown",
      "metadata": {
        "id": "bHlr8J4dATDg"
      },
      "source": [
        "# COLAB para facilitar el acceso y descarga de firebase\n"
      ]
    },
    {
      "cell_type": "markdown",
      "metadata": {},
      "source": [
        "## Ordenado de las columnas, renonombre, ajuste el timestamp a la hora local y remplazo de posibles faltantes de informacion "
      ]
    },
    {
      "cell_type": "code",
      "execution_count": null,
      "metadata": {
        "colab": {
          "base_uri": "https://localhost:8080/"
        },
        "id": "CL6HSCede18u",
        "outputId": "6d877e4d-bcc3-4022-d7a3-8f123dfdf015"
      },
      "outputs": [],
      "source": [
        "import re\n",
        "import pandas as pd\n",
        "from datetime import datetime\n",
        "from firebase_admin import firestore\n",
        "from firebase_admin import credentials\n",
        "import firebase_admin\n",
        "!pip install firebase-admin\n",
        "\n",
        "\n",
        "keyFire = {\n",
        "    # pegar key de la app firebase o subir json\n",
        "}\n",
        "\n",
        "cred = credentials.Certificate(keyFire)\n",
        "firebase_admin.initialize_app(credential=cred)\n",
        "db = firestore.client()\n",
        "\n",
        "estudiantes = list(db.collection(u'ingresantes').stream())\n",
        "\n",
        "estudiantes_dict = list(map(lambda x: x.to_dict(), estudiantes))\n",
        "df = pd.DataFrame(estudiantes_dict)\n",
        "\n",
        "reordenar = ['creadoEn', 'apellido', 'nombre', 'documento', 'tipoDocumento', 'cursandoSecu',\n",
        "             'email', 'edad', 'fechaNacimiento',   'sexoBio', 'direccion', 'provincia', 'departamento', 'localidad',  'queresIngresar',  'fechaFinSecu',\n",
        "             'seminarioRecurs', 'celular', 'empresaCel', 'acalracionEmpresa', 'familiaEstudios',\n",
        "             'tEmail',  'tNombre', 'tApellido', 'tTelefono',\n",
        "             'diponibilidad',  'viviendaPropia', 'conectividad', 'trabajo', 'referenciaEntropia', 'aclaracionEntropia',\n",
        "             'cue', 'anexoCue', 'iEmail', 'iSector', 'iNombre', 'iCodigoDepa', 'iDomicilio',\n",
        "             'iCodigoLocal', 'iPais', 'iProvincia', 'iDepartamento', 'iLocalidad', 'iAmbito',  'Itelefono', 'iCodigoTel', 'iCodigoPostal']\n",
        "\n",
        "\n",
        "df = df[reordenar]\n",
        "\n",
        "renombrar = {\n",
        "    'diponibilidad': \"Disponibilidad horaria\",  'viviendaPropia': \"Vivienda Propia\", 'conectividad': \"Conectividad\",\n",
        "    'trabajo': \"Trabajo\", 'referenciaEntropia': \"Referencia a Entropia\", 'aclaracionEntropia': \"Aclaracion aReferencia a Entropia\",\n",
        "    'anexoCue': \"anexo cue\", 'cursandoSecu': \"Cursando Secundaria\",\n",
        "    'direccion': \"direccion estudiante\", 'provincia': \"provincia de residencia\",\n",
        "    'tTelefono': \"telefono tutor\", 'iProvincia': \"provincia institucion \",\n",
        "    'email': \"Email Estudiante\", 'iLocalidad': \"localidad institucion\",\n",
        "    'tEmail': \"Email Tutor\", 'queresIngresar': \"Deseo de ingreso Universidad\",\n",
        "    'iPais': \"Institucion Pais\",'acalracionEmpresa': \"aclaraciones de empresa\",\n",
        "    'tNombre': \"Nombre Tutor\", 'fechaFinSecu': \"fecha fin de Secundaria\",\n",
        "    'seminarioRecurs': \"Hizo Entropia\", 'celular': \"Celular Estudiante\", 'localidad': \"Localidad residencia\",\n",
        "    'fechaNacimiento': \"Fecha de nacimiento\", 'iSector': \"sector\", 'familiaEstudios': \"Estudios de la Familia\",\n",
        "    'apellido': \"apellido Estudiante\", 'documento': \"Documento Estudiante\",\n",
        "    'empresaCel': \"Empresa celular\", 'iNombre': \"Nombre de la Institucion\", 'edad': \"edad\",\n",
        "    'sexoBio': \"Sexo Biologico\", 'nombre': \"Nombre Estudiante\", 'creadoEn': \"Creado el\",\n",
        "    'tApellido': \"Apellido Tutor\", 'cue': \"Cue\", 'iEmail': \"Email Institucin\", 'iCodigoDepa': \"Codigo departamento Institucion\",\n",
        "    'iDomicilio': \"Domicilio Institucion\", 'iCodigoLocal': \"Codigo Local Institucion\", 'iDepartamento': \"Departamento Institucion\", 'iAmbito': \"Ambito Institucion\",\n",
        "    'tipoDocumento': \"Tipo de Documento\", 'Itelefono': \"Telefono Institucion\", 'iCodigoTel': \"Codigo telefonico Institucion\", 'iCodigoPostal': \"Codigo Postal Institucion\"}\n",
        "df.rename(columns=renombrar, inplace=True)\n",
        "#df[\"Documento Estudiante\"]=df[\"Documento Estudiante\"].replace(\"[^0-9]\", '', regex=True)\n",
        "\n",
        "correccionFechas = pd.to_datetime(df['Creado el'], utc=True).dt.tz_convert(\n",
        "    'Etc/GMT-3').dt.strftime('%Y-%m-%d %H:%M:%S')\n",
        "\n",
        "df.drop([\"Creado el\"], axis=1, inplace=True)\n",
        "\n",
        "df.insert(0, \"Creado el\", correccionFechas, True)\n",
        "\n",
        "values = {\"Institucion Pais\": \"Argentina\"}\n",
        "df.fillna(value=values, inplace=True)\n",
        "\n",
        "#######################################################################\n",
        "nombreDB = 'ingresantes'+str(datetime.today().strftime('%Y-%m-%d'))+'.csv'\n",
        "\n",
        "with open(nombreDB, \"w\") as archivo:\n",
        "    archivo.write(df.to_csv())\n"
      ]
    },
    {
      "cell_type": "markdown",
      "metadata": {
        "id": "Z7KZdYPx-zyH"
      },
      "source": [
        "## Descargar directo"
      ]
    },
    {
      "cell_type": "code",
      "execution_count": null,
      "metadata": {
        "colab": {
          "base_uri": "https://localhost:8080/",
          "height": 17
        },
        "id": "88sin1iZmtDr",
        "outputId": "9b6234f0-4777-4669-c4cb-b8f2ca92a337"
      },
      "outputs": [],
      "source": [
        "from google.colab import files\n",
        "\n",
        "files.download('tablaFirebase.csv')"
      ]
    },
    {
      "cell_type": "markdown",
      "metadata": {
        "id": "oMRSYoWXntFl"
      },
      "source": [
        "## Conectar y trasferir CSV a un Drive"
      ]
    },
    {
      "cell_type": "code",
      "execution_count": null,
      "metadata": {
        "colab": {
          "base_uri": "https://localhost:8080/"
        },
        "id": "VxrpRECynfCE",
        "outputId": "5a0348db-8583-4854-d82b-1753a768384c"
      },
      "outputs": [],
      "source": [
        "import shutil, os\n",
        "from google.colab import drive\n",
        "\n",
        "drive.mount('/content/gdrive')\n",
        "ruta= \"/content/drive/My Drive/\"+nombreDB # 'gdrive/My Drive/' #ruta= 'gdrive/My Drive/'+nombreDB\n",
        "shutil.copy(\"/content/\"+nombreDB,ruta)"
      ]
    }
  ],
  "metadata": {
    "colab": {
      "collapsed_sections": [],
      "name": "consultas - firebase",
      "provenance": []
    },
    "kernelspec": {
      "display_name": "Python 3",
      "name": "python3"
    },
    "language_info": {
      "name": "python"
    }
  },
  "nbformat": 4,
  "nbformat_minor": 0
}
